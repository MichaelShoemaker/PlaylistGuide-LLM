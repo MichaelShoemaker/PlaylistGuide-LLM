{
 "cells": [
  {
   "cell_type": "code",
   "execution_count": 1,
   "metadata": {},
   "outputs": [
    {
     "name": "stderr",
     "output_type": "stream",
     "text": [
      "/home/gary/.local/lib/python3.10/site-packages/sentence_transformers/cross_encoder/CrossEncoder.py:11: TqdmExperimentalWarning: Using `tqdm.autonotebook.tqdm` in notebook mode. Use `tqdm.tqdm` instead to force console mode (e.g. in jupyter console)\n",
      "  from tqdm.autonotebook import tqdm, trange\n",
      "2024-08-28 18:36:29.303097: E external/local_xla/xla/stream_executor/cuda/cuda_fft.cc:479] Unable to register cuFFT factory: Attempting to register factory for plugin cuFFT when one has already been registered\n",
      "2024-08-28 18:36:29.440555: E external/local_xla/xla/stream_executor/cuda/cuda_dnn.cc:10575] Unable to register cuDNN factory: Attempting to register factory for plugin cuDNN when one has already been registered\n",
      "2024-08-28 18:36:29.441182: E external/local_xla/xla/stream_executor/cuda/cuda_blas.cc:1442] Unable to register cuBLAS factory: Attempting to register factory for plugin cuBLAS when one has already been registered\n",
      "2024-08-28 18:36:29.642326: I tensorflow/core/platform/cpu_feature_guard.cc:210] This TensorFlow binary is optimized to use available CPU instructions in performance-critical operations.\n",
      "To enable the following instructions: AVX2 FMA, in other operations, rebuild TensorFlow with the appropriate compiler flags.\n",
      "2024-08-28 18:36:31.105010: W tensorflow/compiler/tf2tensorrt/utils/py_utils.cc:38] TF-TRT Warning: Could not find TensorRT\n"
     ]
    }
   ],
   "source": [
    "import json\n",
    "from sentence_transformers import SentenceTransformer\n",
    "from elasticsearch import Elasticsearch\n",
    "\n",
    "es = Elasticsearch(\"http://localhost:9200\")"
   ]
  },
  {
   "cell_type": "code",
   "execution_count": 2,
   "metadata": {},
   "outputs": [],
   "source": [
    "model = SentenceTransformer('all-MiniLM-L6-v2')"
   ]
  },
  {
   "cell_type": "code",
   "execution_count": 3,
   "metadata": {},
   "outputs": [],
   "source": [
    "with open('enriched.json') as f:\n",
    "    data = json.load(f)\n"
   ]
  },
  {
   "cell_type": "code",
   "execution_count": 4,
   "metadata": {},
   "outputs": [],
   "source": [
    "for rec in data:\n",
    "    rec['search_field'] = rec['Title'].split('-')[-1] + rec['enriched_content']"
   ]
  },
  {
   "cell_type": "code",
   "execution_count": 5,
   "metadata": {},
   "outputs": [],
   "source": [
    "for rec in data:\n",
    "    rec['search_vector'] = model.encode(rec['search_field'])"
   ]
  },
  {
   "cell_type": "code",
   "execution_count": 7,
   "metadata": {},
   "outputs": [
    {
     "data": {
      "text/plain": [
       "384"
      ]
     },
     "execution_count": 7,
     "metadata": {},
     "output_type": "execute_result"
    }
   ],
   "source": [
    "len(data[0]['search_vector'])"
   ]
  },
  {
   "cell_type": "code",
   "execution_count": 8,
   "metadata": {},
   "outputs": [
    {
     "data": {
      "text/plain": [
       "dict_keys(['Title', 'Text', 'Start_TimeStamp', 'End_TimeStamp', 'link', 'enriched_content', 'search_field', 'search_vector'])"
      ]
     },
     "execution_count": 8,
     "metadata": {},
     "output_type": "execute_result"
    }
   ],
   "source": [
    "data[0].keys()"
   ]
  },
  {
   "cell_type": "code",
   "execution_count": 9,
   "metadata": {},
   "outputs": [],
   "source": [
    "index_settings = {\n",
    "    \"settings\": {\n",
    "        \"number_of_shards\": 1,\n",
    "        \"number_of_replicas\": 0\n",
    "    },\n",
    "    \"mappings\": {\n",
    "        \"properties\": {\n",
    "            \"Title\": {\"type\": \"text\"},\n",
    "            \"Text\": {\"type\": \"text\"},\n",
    "            \"Start_TimeStamp\": {\"type\": \"text\"},\n",
    "            \"End_TimeStamp\": {\"type\": \"keyword\"} ,\n",
    "            \"link\": {\"type\": \"keyword\"} ,\n",
    "            \"enriched_content\": {\"type\": \"keyword\"} ,\n",
    "            \"search_field\": {\"type\": \"keyword\"} ,\n",
    "            \"search_vector\": {\"type\": \"dense_vector\", \"dims\": 384, \"index\": True, \"similarity\": \"cosine\"},\n",
    "        }\n",
    "    }\n",
    "}"
   ]
  },
  {
   "cell_type": "code",
   "execution_count": 10,
   "metadata": {},
   "outputs": [
    {
     "data": {
      "text/plain": [
       "ObjectApiResponse({'acknowledged': True, 'shards_acknowledged': True, 'index': 'video-content'})"
      ]
     },
     "execution_count": 10,
     "metadata": {},
     "output_type": "execute_result"
    }
   ],
   "source": [
    "index_name = \"video-content\"\n",
    "\n",
    "es.indices.delete(index=index_name, ignore_unavailable=True)\n",
    "es.indices.create(index=index_name, body=index_settings)"
   ]
  },
  {
   "cell_type": "code",
   "execution_count": 11,
   "metadata": {},
   "outputs": [],
   "source": [
    "for doc in data:\n",
    "    try:\n",
    "        es.index(index=index_name, document=doc)\n",
    "    except Exception as e:\n",
    "        print(e)"
   ]
  },
  {
   "cell_type": "code",
   "execution_count": 12,
   "metadata": {},
   "outputs": [],
   "source": [
    "\n",
    "search_term = \"When did we first start talking about orchestration?\"\n",
    "vector_search_term = model.encode(search_term)"
   ]
  },
  {
   "cell_type": "code",
   "execution_count": 15,
   "metadata": {},
   "outputs": [
    {
     "data": {
      "text/plain": [
       "[{'_index': 'video-content',\n",
       "  '_id': 'u_Bcm5EByv1_kUiazi-K',\n",
       "  '_score': 0.66213006,\n",
       "  '_source': {'link': 'https://www.youtube.com/watch?v=nuk7_soKMUA&t=126s'}},\n",
       " {'_index': 'video-content',\n",
       "  '_id': 'oPBcm5EByv1_kUiazi8R',\n",
       "  '_score': 0.6594509,\n",
       "  '_source': {'link': 'https://www.youtube.com/watch?v=gP2ZOsG9Umg&t=1s'}},\n",
       " {'_index': 'video-content',\n",
       "  '_id': 'uvBcm5EByv1_kUiazi-E',\n",
       "  '_score': 0.6547475,\n",
       "  '_source': {'link': 'https://www.youtube.com/watch?v=nuk7_soKMUA&t=94s'}},\n",
       " {'_index': 'video-content',\n",
       "  '_id': 'r_Bcm5EByv1_kUiazi9S',\n",
       "  '_score': 0.64250517,\n",
       "  '_source': {'link': 'https://www.youtube.com/watch?v=8wrArv0DEKc&t=1s'}},\n",
       " {'_index': 'video-content',\n",
       "  '_id': 'ofBcm5EByv1_kUiazi8X',\n",
       "  '_score': 0.6405059,\n",
       "  '_source': {'link': 'https://www.youtube.com/watch?v=gP2ZOsG9Umg&t=33s'}}]"
      ]
     },
     "execution_count": 15,
     "metadata": {},
     "output_type": "execute_result"
    }
   ],
   "source": [
    "query = {\n",
    "    \"field\": \"search_vector\",\n",
    "    \"query_vector\": vector_search_term,\n",
    "    \"k\": 5,\n",
    "    \"num_candidates\": 10000, \n",
    "}\n",
    "res = es.search(index=index_name, knn=query, source=[\"link\"])\n",
    "res[\"hits\"][\"hits\"]"
   ]
  },
  {
   "cell_type": "code",
   "execution_count": null,
   "metadata": {},
   "outputs": [],
   "source": [
    "{'Title': 'llm zoomcamp 1.1 - introduction to llm and rag',\n",
    "  'Text': \"hi everyone welcome to our course this is our first module for first unit so in this course the course is called llm zoom camp in this course we will learn about practical applications of llm and in particular we will focus our attention on rack retrieval a generation i'll shortly talk about these variations what they mean um and what we exactly will do and i want to start first with explaining the problem we are going to\",\n",
    "  'Start_TimeStamp': 0.719,\n",
    "  'End_TimeStamp': 30.039,\n",
    "  'link': 'https://www.youtube.com/watch?v=Q75JgLEXMsM&t=0s',\n",
    "  'enriched_content': \"hi everyone welcome to our course this is our first module for first unit so in this course the course is called llm zoom camp in this course we will learn about practical applications of llm and in particular we will focus our attention on rack retrieval a generation i'll shortly talk about these variations what they mean um and what we exactly will do and i want to start first with explaining the problem we are going to use uh to solve throughout the course um so this will be our running problem and in our community in data do club we have multiple courses so this llm zoom camp is our fifth course and usually in our courses we have frequently asked questions so there are questions that uh there are no answers in the videos or answers are not uh easy to find and we have these documents\"},\n",
    " "
   ]
  }
 ],
 "metadata": {
  "kernelspec": {
   "display_name": "Python 3",
   "language": "python",
   "name": "python3"
  },
  "language_info": {
   "codemirror_mode": {
    "name": "ipython",
    "version": 3
   },
   "file_extension": ".py",
   "mimetype": "text/x-python",
   "name": "python",
   "nbconvert_exporter": "python",
   "pygments_lexer": "ipython3",
   "version": "3.10.12"
  }
 },
 "nbformat": 4,
 "nbformat_minor": 2
}
