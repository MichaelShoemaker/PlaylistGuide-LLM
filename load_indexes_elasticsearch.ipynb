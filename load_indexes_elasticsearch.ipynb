{
 "cells": [
  {
   "cell_type": "code",
   "execution_count": 1,
   "metadata": {},
   "outputs": [],
   "source": [
    "from elasticsearch import Elasticsearch\n",
    "\n",
    "es = Elasticsearch(\"http://localhost:9200\")"
   ]
  },
  {
   "cell_type": "code",
   "execution_count": 2,
   "metadata": {},
   "outputs": [],
   "source": [
    "import pickle\n",
    "#Load Dictionary\n",
    "with open('transcripts_timestamps.pkl', 'rb') as infile:\n",
    "    time_stamps = pickle.load(infile)\n",
    "with open('transcripts_timestamps_links.pkl', 'rb') as infile:\n",
    "    links =pickle.load(infile)\n",
    "with open('transcripts.pkl', 'rb') as infile:\n",
    "    transcripts = pickle.load(infile)"
   ]
  },
  {
   "cell_type": "code",
   "execution_count": null,
   "metadata": {},
   "outputs": [],
   "source": [
    "def chunk_timestamps(documents, chunk_size=3):\n",
    "    combined_docs = []\n",
    "    current_chunk = {\"Title\": documents[0]['Title'], \"Text\": \"\", \"TimeStamp\": documents[0]['TimeStamp']}\n",
    "    \n",
    "    for i, doc in enumerate(documents):\n",
    "        if i % chunk_size == 0 and i != 0:\n",
    "            combined_docs.append(current_chunk)\n",
    "            current_chunk = {\"Title\": doc['Title'], \"Text\": \"\", \"TimeStamp\": doc['TimeStamp'], \"Link\":doc['link']}\n",
    "        \n",
    "        current_chunk['Text'] += f\" {doc['Text']}\"\n",
    "    \n",
    "    combined_docs.append(current_chunk)\n",
    "    return combined_docs\n",
    "\n",
    "# Example usage\n",
    "documents = transcripts\n",
    "combined_documents = chunk_timestamps(documents)"
   ]
  },
  {
   "cell_type": "code",
   "execution_count": null,
   "metadata": {},
   "outputs": [],
   "source": [
    "def chunk_links(documents, chunk_size=3):\n",
    "    combined_docs = []\n",
    "    current_chunk = {\"Title\": documents[0]['Title'], \"Text\": \"\", \"TimeStamp\": documents[0]['TimeStamp']}\n",
    "    \n",
    "    for i, doc in enumerate(documents):\n",
    "        if i % chunk_size == 0 and i != 0:\n",
    "            combined_docs.append(current_chunk)\n",
    "            current_chunk = {\"Title\": doc['Title'], \"Text\": \"\", \"TimeStamp\": doc['TimeStamp'], \"Link\":doc['link']}\n",
    "        \n",
    "        current_chunk['Text'] += f\" {doc['Text']}\"\n",
    "    \n",
    "    combined_docs.append(current_chunk)\n",
    "    return combined_docs\n",
    "\n",
    "# Example usage\n",
    "documents = transcripts\n",
    "combined_documents = chunk_links(documents)"
   ]
  },
  {
   "cell_type": "code",
   "execution_count": 3,
   "metadata": {},
   "outputs": [
    {
     "name": "stderr",
     "output_type": "stream",
     "text": [
      "/tmp/ipykernel_2655401/101222512.py:19: DeprecationWarning: Passing transport options in the API method is deprecated. Use 'Elasticsearch.options()' instead.\n",
      "  es.indices.create(index=\"transcripts\", body=index_settings, ignore=400)\n",
      "/tmp/ipykernel_2655401/101222512.py:20: DeprecationWarning: Passing transport options in the API method is deprecated. Use 'Elasticsearch.options()' instead.\n",
      "  es.indices.create(index=\"timestamps\", body=index_settings, ignore=400)\n",
      "/tmp/ipykernel_2655401/101222512.py:21: DeprecationWarning: Passing transport options in the API method is deprecated. Use 'Elasticsearch.options()' instead.\n",
      "  es.indices.create(index=\"links\", body=index_settings, ignore=400)\n"
     ]
    },
    {
     "data": {
      "text/plain": [
       "ObjectApiResponse({'acknowledged': True, 'shards_acknowledged': True, 'index': 'links'})"
      ]
     },
     "execution_count": 3,
     "metadata": {},
     "output_type": "execute_result"
    }
   ],
   "source": [
    "index_settings = {\n",
    "    \"settings\": {\n",
    "        \"number_of_shards\": 1,\n",
    "        \"number_of_replicas\": 0\n",
    "    },\n",
    "    \"mappings\": {\n",
    "        \"properties\": {\n",
    "            \"Title\": {\"type\": \"text\"},\n",
    "            \"Text\": {\"type\": \"text\"},\n",
    "            \"TimeStamp\": {\"type\": \"float\"},\n",
    "            \"link\": {\"type\": \"text\"},\n",
    "            \"encoded_text\": {\"type\": \"dense_vector\", \"dims\": 768},\n",
    "            \"combined_encoded\": {\"type\": \"dense_vector\", \"dims\": 768}\n",
    "        }\n",
    "    }\n",
    "}\n",
    "\n",
    "# Create the indexes\n",
    "es.indices.create(index=\"transcripts\", body=index_settings, ignore=400)\n",
    "es.indices.create(index=\"timestamps\", body=index_settings, ignore=400)\n",
    "es.indices.create(index=\"links\", body=index_settings, ignore=400)"
   ]
  },
  {
   "cell_type": "code",
   "execution_count": 4,
   "metadata": {},
   "outputs": [
    {
     "name": "stderr",
     "output_type": "stream",
     "text": [
      "/home/gary/.local/lib/python3.10/site-packages/sentence_transformers/cross_encoder/CrossEncoder.py:11: TqdmExperimentalWarning: Using `tqdm.autonotebook.tqdm` in notebook mode. Use `tqdm.tqdm` instead to force console mode (e.g. in jupyter console)\n",
      "  from tqdm.autonotebook import tqdm, trange\n",
      "2024-08-25 17:47:42.246367: E external/local_xla/xla/stream_executor/cuda/cuda_fft.cc:479] Unable to register cuFFT factory: Attempting to register factory for plugin cuFFT when one has already been registered\n",
      "2024-08-25 17:47:42.266356: E external/local_xla/xla/stream_executor/cuda/cuda_dnn.cc:10575] Unable to register cuDNN factory: Attempting to register factory for plugin cuDNN when one has already been registered\n",
      "2024-08-25 17:47:42.266387: E external/local_xla/xla/stream_executor/cuda/cuda_blas.cc:1442] Unable to register cuBLAS factory: Attempting to register factory for plugin cuBLAS when one has already been registered\n",
      "2024-08-25 17:47:42.279413: I tensorflow/core/platform/cpu_feature_guard.cc:210] This TensorFlow binary is optimized to use available CPU instructions in performance-critical operations.\n",
      "To enable the following instructions: AVX2 FMA, in other operations, rebuild TensorFlow with the appropriate compiler flags.\n",
      "2024-08-25 17:47:43.103612: W tensorflow/compiler/tf2tensorrt/utils/py_utils.cc:38] TF-TRT Warning: Could not find TensorRT\n",
      "/home/gary/.local/lib/python3.10/site-packages/torch/cuda/__init__.py:118: UserWarning: CUDA initialization: CUDA unknown error - this may be due to an incorrectly set up environment, e.g. changing env variable CUDA_VISIBLE_DEVICES after program start. Setting the available devices to be zero. (Triggered internally at ../c10/cuda/CUDAFunctions.cpp:108.)\n",
      "  return torch._C._cuda_getDeviceCount() > 0\n",
      "No CUDA runtime is found, using CUDA_HOME='/usr'\n"
     ]
    }
   ],
   "source": [
    "from sentence_transformers import SentenceTransformer\n",
    "import json\n",
    "\n",
    "# Load the model\n",
    "model = SentenceTransformer('all-MiniLM-L6-v2')"
   ]
  },
  {
   "cell_type": "code",
   "execution_count": 5,
   "metadata": {},
   "outputs": [],
   "source": [
    "def encode_text(text):\n",
    "    return model.encode(text).tolist()\n",
    "\n",
    "# Chunk text and add encoded fields\n",
    "for link in links:\n",
    "    link['encoded_text'] = encode_text(link['Text'])\n",
    "    combined_text = f\"{link['Title']} {link['Text']}\"\n",
    "    link['combined_encoded'] = encode_text(combined_text)\n",
    "\n",
    "for title, text_blocks in time_stamps.items():\n",
    "    for block in text_blocks:\n",
    "        block['encoded_text'] = encode_text(block['Text'])\n",
    "        combined_text = f\"{title} {block['Text']}\"\n",
    "        block['combined_encoded'] = encode_text(combined_text)\n",
    "\n",
    "for title, text in transcripts.items():\n",
    "    transcripts[title] = {\n",
    "        'Text': text,\n",
    "        'encoded_text': encode_text(text),\n",
    "        'combined_encoded': encode_text(f\"{title} {text}\")\n",
    "    }"
   ]
  },
  {
   "cell_type": "code",
   "execution_count": null,
   "metadata": {},
   "outputs": [],
   "source": [
    "from elasticsearch.helpers import bulk\n",
    "\n",
    "def load_data(index_name, data):\n",
    "    actions = [\n",
    "        {\n",
    "            \"_index\": index_name,\n",
    "            \"_source\": item\n",
    "        }\n",
    "        for item in data\n",
    "    ]\n",
    "    bulk(es, actions)\n",
    "\n",
    "# Load transcripts\n",
    "load_data(\"transcripts\", [{\"Title\": title, **value} for title, value in transcripts.items()])\n",
    "\n",
    "# Load timestamps\n",
    "load_data(\"timestamps\", [{\"Title\": title, **block} for title, blocks in time_stamps.items() for block in blocks])\n",
    "\n",
    "# Load links\n",
    "load_data(\"links\", links)"
   ]
  },
  {
   "cell_type": "code",
   "execution_count": null,
   "metadata": {},
   "outputs": [],
   "source": [
    "# https://chatgpt.com/share/caba9f5b-a343-456e-bc4c-0798dda28368"
   ]
  }
 ],
 "metadata": {
  "kernelspec": {
   "display_name": "Python 3",
   "language": "python",
   "name": "python3"
  },
  "language_info": {
   "codemirror_mode": {
    "name": "ipython",
    "version": 3
   },
   "file_extension": ".py",
   "mimetype": "text/x-python",
   "name": "python",
   "nbconvert_exporter": "python",
   "pygments_lexer": "ipython3",
   "version": "3.10.12"
  }
 },
 "nbformat": 4,
 "nbformat_minor": 2
}
