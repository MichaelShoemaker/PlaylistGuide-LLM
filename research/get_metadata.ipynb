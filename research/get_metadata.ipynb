{
 "cells": [
  {
   "cell_type": "code",
   "execution_count": 4,
   "metadata": {},
   "outputs": [
    {
     "name": "stdout",
     "output_type": "stream",
     "text": [
      "Introduction to LLM Zoomcamp\n",
      "Understanding LLMs\n",
      "Exploring RAG\n"
     ]
    }
   ],
   "source": [
    "import os\n",
    "import re\n",
    "from googleapiclient.discovery import build\n",
    "from dotenv import load_dotenv\n",
    "\n",
    "load_dotenv()\n",
    "API_KEY = os.getenv(\"YouTube_API_KEY\")\n",
    "\n",
    "def get_video_metadata(api_key, video_id):\n",
    "    \"\"\"\n",
    "    Retrieves metadata for a given YouTube video ID.\n",
    "    \"\"\"\n",
    "    youtube = build('youtube', 'v3', developerKey=api_key)\n",
    "    \n",
    "    # Request to get video details\n",
    "    request = youtube.videos().list(\n",
    "        part='snippet',\n",
    "        id=video_id\n",
    "    )\n",
    "    \n",
    "    # Execute the request\n",
    "    response = request.execute()\n",
    "    \n",
    "    # Check if the response contains items\n",
    "    if 'items' in response and len(response['items']) > 0:\n",
    "        return response['items'][0]  # Return the metadata of the first item (video)\n",
    "    else:\n",
    "        return None  # No video found\n",
    "\n",
    "def extract_timecodes_and_descriptions(description):\n",
    "    \"\"\"\n",
    "    Extracts timecodes and their associated descriptions from the video description using regex.\n",
    "    \"\"\"\n",
    "    # Regex pattern to match timecodes in the format MM:SS or HH:MM:SS\n",
    "    timecode_pattern = r\"(\\d{1,2}:\\d{2}(?::\\d{2})?)\\s+(.+)\"\n",
    "    \n",
    "    # Find all matches\n",
    "    matches = re.findall(timecode_pattern, description)\n",
    "    \n",
    "    # Extracted timecodes and descriptions\n",
    "    timecodes = [(match[0], match[1].strip()) for match in matches]\n",
    "    \n",
    "    return timecodes\n",
    "\n",
    "def create_timestamp_dicts(video_id, video_metadata, timecodes):\n",
    "    \"\"\"\n",
    "    Creates a list of dictionaries for each timecode, including title, timecode, text, description, and link.\n",
    "    \"\"\"\n",
    "    base_url = f\"https://www.youtube.com/watch?v={video_id}\"\n",
    "    \n",
    "    timestamp_dicts = []\n",
    "\n",
    "    for time_str, text in timecodes:\n",
    "        # Convert timecode to seconds\n",
    "        parts = time_str.split(\":\")\n",
    "        if len(parts) == 2:\n",
    "            minutes, seconds = map(int, parts)\n",
    "            time_in_seconds = minutes * 60 + seconds\n",
    "        elif len(parts) == 3:\n",
    "            hours, minutes, seconds = map(int, parts)\n",
    "            time_in_seconds = hours * 3600 + minutes * 60 + seconds\n",
    "        else:\n",
    "            continue  # Skip if timecode format is not recognized\n",
    "        \n",
    "        # Create a clickable link\n",
    "        link = f\"{base_url}&t={time_in_seconds}s\"\n",
    "        print(text)\n",
    "        # Create a dictionary for each timestamp\n",
    "        timestamp_dict = {\n",
    "            'title': video_metadata['title'],\n",
    "            'timecode': time_str,\n",
    "            'text': text,\n",
    "            'description': video_metadata['description'].split('\\n\\n')[0],\n",
    "            'link': link\n",
    "        }\n",
    "        \n",
    "        timestamp_dicts.append(timestamp_dict)\n",
    "    \n",
    "    return timestamp_dicts\n",
    "\n",
    "def get_video_info_and_timestamps(api_key, video_id):\n",
    "    \"\"\"\n",
    "    Main function that retrieves video metadata and creates timestamp dictionaries.\n",
    "    \"\"\"\n",
    "    # Fetch video metadata\n",
    "    video_metadata_response = get_video_metadata(api_key, video_id)\n",
    "    \n",
    "    if not video_metadata_response:\n",
    "        print(\"No video found or API error occurred.\")\n",
    "        return []\n",
    "    \n",
    "    # Extract relevant metadata\n",
    "    video_metadata = {\n",
    "        'title': video_metadata_response['snippet']['title'],\n",
    "        'description': video_metadata_response['snippet']['description']\n",
    "    }\n",
    "\n",
    "    # Extract timecodes and descriptions dynamically from the video description\n",
    "    timecodes = extract_timecodes_and_descriptions(video_metadata['description'])\n",
    "    \n",
    "    # Generate dictionaries for each timecode\n",
    "    timestamp_dicts = create_timestamp_dicts(video_id, video_metadata, timecodes)\n",
    "    \n",
    "    return timestamp_dicts\n",
    "\n",
    "# Example usage\n",
    "api_key = API_KEY  # Replace with your actual API key\n",
    "video_id = 'Q75JgLEXMsM'  # Replace with your actual video ID\n",
    "\n",
    "# Get video information and timestamp dictionaries\n",
    "timestamp_dicts = get_video_info_and_timestamps(api_key, video_id)\n",
    "\n",
    "# Print the result\n",
    "# for timestamp_dict in timestamp_dicts:\n",
    "#     print(timestamp_dict)\n"
   ]
  },
  {
   "cell_type": "code",
   "execution_count": 9,
   "metadata": {},
   "outputs": [
    {
     "data": {
      "text/plain": [
       "[{'title': 'LLM Zoomcamp 1.1 - Introduction to LLM and RAG',\n",
       "  'timecode': '00:00',\n",
       "  'text': 'Introduction to LLM Zoomcamp',\n",
       "  'description': \"Welcome to the first module of our course, LLM Zoomcamp! We cover the applications of LLM, focusing on RAG: retrieval augmented generation. Throughout the course, we will build a Q&A system using the FAQ data from our courses. We don't cover the theory behind LLMs, but we will learn how to utilize them effectively.\",\n",
       "  'link': 'https://www.youtube.com/watch?v=Q75JgLEXMsM&t=0s'},\n",
       " {'title': 'LLM Zoomcamp 1.1 - Introduction to LLM and RAG',\n",
       "  'timecode': '04:03',\n",
       "  'text': 'Understanding LLMs',\n",
       "  'description': \"Welcome to the first module of our course, LLM Zoomcamp! We cover the applications of LLM, focusing on RAG: retrieval augmented generation. Throughout the course, we will build a Q&A system using the FAQ data from our courses. We don't cover the theory behind LLMs, but we will learn how to utilize them effectively.\",\n",
       "  'link': 'https://www.youtube.com/watch?v=Q75JgLEXMsM&t=243s'},\n",
       " {'title': 'LLM Zoomcamp 1.1 - Introduction to LLM and RAG',\n",
       "  'timecode': '09:15',\n",
       "  'text': 'Exploring RAG',\n",
       "  'description': \"Welcome to the first module of our course, LLM Zoomcamp! We cover the applications of LLM, focusing on RAG: retrieval augmented generation. Throughout the course, we will build a Q&A system using the FAQ data from our courses. We don't cover the theory behind LLMs, but we will learn how to utilize them effectively.\",\n",
       "  'link': 'https://www.youtube.com/watch?v=Q75JgLEXMsM&t=555s'}]"
      ]
     },
     "execution_count": 9,
     "metadata": {},
     "output_type": "execute_result"
    }
   ],
   "source": [
    "timestamp_dicts"
   ]
  },
  {
   "cell_type": "code",
   "execution_count": 6,
   "metadata": {},
   "outputs": [
    {
     "name": "stderr",
     "output_type": "stream",
     "text": [
      "/home/gary/.local/lib/python3.10/site-packages/sentence_transformers/cross_encoder/CrossEncoder.py:11: TqdmExperimentalWarning: Using `tqdm.autonotebook.tqdm` in notebook mode. Use `tqdm.tqdm` instead to force console mode (e.g. in jupyter console)\n",
      "  from tqdm.autonotebook import tqdm, trange\n",
      "2024-08-30 09:17:56.824141: E external/local_xla/xla/stream_executor/cuda/cuda_fft.cc:479] Unable to register cuFFT factory: Attempting to register factory for plugin cuFFT when one has already been registered\n",
      "2024-08-30 09:17:56.932850: E external/local_xla/xla/stream_executor/cuda/cuda_dnn.cc:10575] Unable to register cuDNN factory: Attempting to register factory for plugin cuDNN when one has already been registered\n",
      "2024-08-30 09:17:56.933464: E external/local_xla/xla/stream_executor/cuda/cuda_blas.cc:1442] Unable to register cuBLAS factory: Attempting to register factory for plugin cuBLAS when one has already been registered\n",
      "2024-08-30 09:17:57.113091: I tensorflow/core/platform/cpu_feature_guard.cc:210] This TensorFlow binary is optimized to use available CPU instructions in performance-critical operations.\n",
      "To enable the following instructions: AVX2 FMA, in other operations, rebuild TensorFlow with the appropriate compiler flags.\n",
      "2024-08-30 09:17:58.145024: W tensorflow/compiler/tf2tensorrt/utils/py_utils.cc:38] TF-TRT Warning: Could not find TensorRT\n"
     ]
    }
   ],
   "source": [
    "import json\n",
    "from sentence_transformers import SentenceTransformer\n",
    "from elasticsearch import Elasticsearch\n",
    "\n",
    "es = Elasticsearch(\"http://localhost:9200\")"
   ]
  },
  {
   "cell_type": "code",
   "execution_count": null,
   "metadata": {},
   "outputs": [],
   "source": []
  }
 ],
 "metadata": {
  "kernelspec": {
   "display_name": "Python 3",
   "language": "python",
   "name": "python3"
  },
  "language_info": {
   "codemirror_mode": {
    "name": "ipython",
    "version": 3
   },
   "file_extension": ".py",
   "mimetype": "text/x-python",
   "name": "python",
   "nbconvert_exporter": "python",
   "pygments_lexer": "ipython3",
   "version": "3.10.12"
  }
 },
 "nbformat": 4,
 "nbformat_minor": 2
}
